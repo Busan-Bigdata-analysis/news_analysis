{
  "nbformat": 4,
  "nbformat_minor": 0,
  "metadata": {
    "colab": {
      "provenance": [],
      "collapsed_sections": []
    },
    "kernelspec": {
      "name": "python3",
      "display_name": "Python 3"
    },
    "language_info": {
      "name": "python"
    }
  },
  "cells": [
    {
      "cell_type": "markdown",
      "source": [
        "# data handling"
      ],
      "metadata": {
        "id": "24OrDjYzdnc2"
      }
    },
    {
      "cell_type": "markdown",
      "source": [
        "- 학습 및 테스트 데이터 구성\n",
        "  - X_train, X_test : 축약된 문장\n",
        "  - y_train, y_test : 주가의 변동"
      ],
      "metadata": {
        "id": "a37llJDjpWIr"
      }
    },
    {
      "cell_type": "markdown",
      "source": [
        "# build model"
      ],
      "metadata": {
        "id": "v2DJupqGd9fq"
      }
    },
    {
      "cell_type": "markdown",
      "source": [
        "- 모델의 입력 요소\n",
        "  - 학습 데이터 : 축약된 문장, 뉴스 작성 일자, 같은 일자의 주가\n",
        "  - 정답 : 주가 변동(상승, 하락)"
      ],
      "metadata": {
        "id": "IQnB883GeGg9"
      }
    },
    {
      "cell_type": "code",
      "source": [
        "from tensorflow.keras.models import Sequential\n",
        "from tensorflow.keras.layers import Dense, LSTM, Embedding\n",
        "\n",
        "from tensorflow.keras.callbacks import EarlyStopping"
      ],
      "metadata": {
        "id": "AmKD5J10ffy1"
      },
      "execution_count": 1,
      "outputs": []
    },
    {
      "cell_type": "code",
      "source": [
        "model = Sequential()\n",
        "\n",
        "model.add( Embedding() )\n",
        "\n",
        "model.add( LSTM() )\n",
        "\n",
        "# 카테고리 3개 ( 상승, 하락, 변동 없음(None) )\n",
        "model.add( Dense( 3, activation='softmax' ) )"
      ],
      "metadata": {
        "id": "mw3bYP55fqUZ"
      },
      "execution_count": null,
      "outputs": []
    },
    {
      "cell_type": "code",
      "source": [
        "# 컴파일\n",
        "model.compile( loss='categorical_crossentropy', optimizer='adam', metrics=['accuracy'] )"
      ],
      "metadata": {
        "id": "IVSoKo2BnO94"
      },
      "execution_count": null,
      "outputs": []
    },
    {
      "cell_type": "code",
      "source": [
        "# 조기 학습 종료\n",
        "earlyStopping = EarlyStopping(patience=5)"
      ],
      "metadata": {
        "id": "fcIRFI89ndtI"
      },
      "execution_count": null,
      "outputs": []
    },
    {
      "cell_type": "code",
      "source": [
        "import tensorflow as tf\n",
        "\n",
        "with tf.device('/device:GPU:0'):\n",
        "  his = model.fit(\n",
        "      X_train,\n",
        "      y_train,\n",
        "      batch_size  = 32,\n",
        "      epochs      = 200,\n",
        "      validation_date = (X_test,y_test),\n",
        "      callbacks       = [earlyStopping]\n",
        "  )"
      ],
      "metadata": {
        "id": "95N5nQN-nmbz"
      },
      "execution_count": null,
      "outputs": []
    },
    {
      "cell_type": "markdown",
      "source": [
        "# save model"
      ],
      "metadata": {
        "id": "iH6sMqMpeC52"
      }
    },
    {
      "cell_type": "code",
      "source": [],
      "metadata": {
        "id": "bWsjN-FFrhpT"
      },
      "execution_count": null,
      "outputs": []
    }
  ]
}