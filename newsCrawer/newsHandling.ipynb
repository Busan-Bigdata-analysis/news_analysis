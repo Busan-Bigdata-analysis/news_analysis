{
 "cells": [
  {
   "cell_type": "code",
   "execution_count": 45,
   "metadata": {},
   "outputs": [],
   "source": [
    "import pandas as pd\n",
    "import glob\n",
    "import re"
   ]
  },
  {
   "cell_type": "code",
   "execution_count": 46,
   "metadata": {},
   "outputs": [],
   "source": [
    "directory = glob.glob('./data/theme/*.csv')\n",
    "data = pd.read_csv(repo[0],encoding='utf8',index_col=0)"
   ]
  },
  {
   "cell_type": "code",
   "execution_count": 47,
   "metadata": {},
   "outputs": [
    {
     "data": {
      "text/plain": [
       "30"
      ]
     },
     "execution_count": 47,
     "metadata": {},
     "output_type": "execute_result"
    }
   ],
   "source": [
    "len(directory)"
   ]
  },
  {
   "cell_type": "code",
   "execution_count": 10,
   "metadata": {},
   "outputs": [],
   "source": [
    "partion = len(data)*75//100"
   ]
  },
  {
   "cell_type": "code",
   "execution_count": 12,
   "metadata": {},
   "outputs": [
    {
     "data": {
      "text/plain": [
       "(148, 50)"
      ]
     },
     "execution_count": 12,
     "metadata": {},
     "output_type": "execute_result"
    }
   ],
   "source": [
    "len(data[:partion]),len(data[partion:])"
   ]
  },
  {
   "cell_type": "code",
   "execution_count": 21,
   "metadata": {},
   "outputs": [
    {
     "data": {
      "text/plain": [
       "0      \\n\\n\\n\\n\\n황현식 LG유플러스 사장이 15일 장충동 앰배서더서울풀만호텔에서 ...\n",
       "1      \\n\\n\\n\\n\\n15일 통신업계에선 주요 3사 중 두 기업이 각각 최고경영자(CE...\n",
       "2      \\n\\n\\n\\n\\n황현식 LG유플러스 사장이 15일 기자간담회에서 발표하고 있다. ...\n",
       "3      \\n\\n\\n\\n\\n사진=로이터\\nLG유플러스가 일상 생활 전반에 대한 플랫폼 사업을...\n",
       "4      \\n\\n\\n\\n\\n독일 베를린에 있는 프라운호퍼 하인리히-헤르츠 연구소에서 김병훈 ...\n",
       "                             ...                        \n",
       "144    \\n                                        주식시장...\n",
       "145    \\n\\n\\n\\n\\n사진=게티이미지뱅크\\n주식시장을 둘러싼 대외환경이 흔들리면서 경기...\n",
       "146    \\n                                        30대 ...\n",
       "147    \\n\\n\\n\\n\\n구현모 KT 대표, 이안 쿠옥 쿠옥그룹 회장 등이 지난 8일 온라...\n",
       "148    \\n\\n\\n\\n\\n사진=연합뉴스\\nLG전자가 ‘꿈의 통신기술’로 불리는 6G(6세대...\n",
       "Name: newsfulltext, Length: 149, dtype: object"
      ]
     },
     "execution_count": 21,
     "metadata": {},
     "output_type": "execute_result"
    }
   ],
   "source": [
    "data.newsfulltext[:partion]"
   ]
  },
  {
   "cell_type": "code",
   "execution_count": 48,
   "metadata": {},
   "outputs": [],
   "source": [
    "def handling(news):\n",
    "    for idx,TEXT in enumerate(news):\n",
    "        pattern = '[^ㄱ-핳 0-9,.]'\n",
    "        news[idx] = re.sub(pattern,'',TEXT)\n",
    "        pattern = '(\\s+)'\n",
    "        news[idx] = re.sub(pattern,' ',TEXT)\n",
    "    return news"
   ]
  },
  {
   "cell_type": "code",
   "execution_count": 58,
   "metadata": {},
   "outputs": [],
   "source": [
    "theme_dict = ['IT', '가구', '가전', '건설', '금', '기계', '담배', '도로', '무역', '미디어', '반도체',\n",
    "       '방송', '보석', '보험', '부동산', '생명', '서비스', '석유', '소프트웨어', '에너지', '운송',\n",
    "       '의료', '자동차', '제약', '철강', '철도', '통신', '투자', '항공', '화학','컴퓨터','영화','은행']"
   ]
  },
  {
   "cell_type": "code",
   "execution_count": 59,
   "metadata": {},
   "outputs": [
    {
     "name": "stdout",
     "output_type": "stream",
     "text": [
      "{'IT': 0, '가구': 1, '가전': 2, '건설': 3, '금': 4, '기계': 5, '담배': 6, '도로': 7, '무역': 8, '미디어': 9, '반도체': 10, '방송': 11, '보석': 12, '보험': 13, '부동산': 14, '생명': 15, '서비스': 16, '석유': 17, '소프트웨어': 18, '에너지': 19, '운송': 20, '의료': 21, '자동차': 22, '제약': 23, '철강': 24, '철도': 25, '통신': 26, '투자': 27, '항공': 28, '화학': 29, '컴퓨터': 30, '영화': 31, '은행': 32}\n"
     ]
    }
   ],
   "source": [
    "\n",
    "dictionary = {string : idx for idx,string in enumerate(theme_dict)}\n",
    "print(dictionary)"
   ]
  },
  {
   "cell_type": "code",
   "execution_count": 60,
   "metadata": {},
   "outputs": [],
   "source": [
    "def change(themeList):\n",
    "    for idx,theme in enumerate(themeList):\n",
    "        themeList[idx] = dictionary[theme]\n",
    "    return themeList"
   ]
  },
  {
   "cell_type": "code",
   "execution_count": 61,
   "metadata": {},
   "outputs": [
    {
     "name": "stderr",
     "output_type": "stream",
     "text": [
      "C:\\Users\\0\\AppData\\Local\\Temp\\ipykernel_16792\\790849181.py:15: FutureWarning: The frame.append method is deprecated and will be removed from pandas in a future version. Use pandas.concat instead.\n",
      "  train_set = train_set.append(data[:partion],ignore_index=True)\n",
      "C:\\Users\\0\\AppData\\Local\\Temp\\ipykernel_16792\\790849181.py:16: FutureWarning: The frame.append method is deprecated and will be removed from pandas in a future version. Use pandas.concat instead.\n",
      "  test_set = test_set.append(data[partion:], ignore_index=True)\n",
      "C:\\Users\\0\\AppData\\Local\\Temp\\ipykernel_16792\\790849181.py:17: FutureWarning: The frame.append method is deprecated and will be removed from pandas in a future version. Use pandas.concat instead.\n",
      "  total_set = total_set.append(data, ignore_index=True)\n",
      "C:\\Users\\0\\AppData\\Local\\Temp\\ipykernel_16792\\790849181.py:15: FutureWarning: The frame.append method is deprecated and will be removed from pandas in a future version. Use pandas.concat instead.\n",
      "  train_set = train_set.append(data[:partion],ignore_index=True)\n",
      "C:\\Users\\0\\AppData\\Local\\Temp\\ipykernel_16792\\790849181.py:16: FutureWarning: The frame.append method is deprecated and will be removed from pandas in a future version. Use pandas.concat instead.\n",
      "  test_set = test_set.append(data[partion:], ignore_index=True)\n",
      "C:\\Users\\0\\AppData\\Local\\Temp\\ipykernel_16792\\790849181.py:17: FutureWarning: The frame.append method is deprecated and will be removed from pandas in a future version. Use pandas.concat instead.\n",
      "  total_set = total_set.append(data, ignore_index=True)\n",
      "C:\\Users\\0\\AppData\\Local\\Temp\\ipykernel_16792\\790849181.py:15: FutureWarning: The frame.append method is deprecated and will be removed from pandas in a future version. Use pandas.concat instead.\n",
      "  train_set = train_set.append(data[:partion],ignore_index=True)\n",
      "C:\\Users\\0\\AppData\\Local\\Temp\\ipykernel_16792\\790849181.py:16: FutureWarning: The frame.append method is deprecated and will be removed from pandas in a future version. Use pandas.concat instead.\n",
      "  test_set = test_set.append(data[partion:], ignore_index=True)\n",
      "C:\\Users\\0\\AppData\\Local\\Temp\\ipykernel_16792\\790849181.py:17: FutureWarning: The frame.append method is deprecated and will be removed from pandas in a future version. Use pandas.concat instead.\n",
      "  total_set = total_set.append(data, ignore_index=True)\n",
      "C:\\Users\\0\\AppData\\Local\\Temp\\ipykernel_16792\\790849181.py:15: FutureWarning: The frame.append method is deprecated and will be removed from pandas in a future version. Use pandas.concat instead.\n",
      "  train_set = train_set.append(data[:partion],ignore_index=True)\n",
      "C:\\Users\\0\\AppData\\Local\\Temp\\ipykernel_16792\\790849181.py:16: FutureWarning: The frame.append method is deprecated and will be removed from pandas in a future version. Use pandas.concat instead.\n",
      "  test_set = test_set.append(data[partion:], ignore_index=True)\n",
      "C:\\Users\\0\\AppData\\Local\\Temp\\ipykernel_16792\\790849181.py:17: FutureWarning: The frame.append method is deprecated and will be removed from pandas in a future version. Use pandas.concat instead.\n",
      "  total_set = total_set.append(data, ignore_index=True)\n",
      "C:\\Users\\0\\AppData\\Local\\Temp\\ipykernel_16792\\790849181.py:15: FutureWarning: The frame.append method is deprecated and will be removed from pandas in a future version. Use pandas.concat instead.\n",
      "  train_set = train_set.append(data[:partion],ignore_index=True)\n",
      "C:\\Users\\0\\AppData\\Local\\Temp\\ipykernel_16792\\790849181.py:16: FutureWarning: The frame.append method is deprecated and will be removed from pandas in a future version. Use pandas.concat instead.\n",
      "  test_set = test_set.append(data[partion:], ignore_index=True)\n",
      "C:\\Users\\0\\AppData\\Local\\Temp\\ipykernel_16792\\790849181.py:17: FutureWarning: The frame.append method is deprecated and will be removed from pandas in a future version. Use pandas.concat instead.\n",
      "  total_set = total_set.append(data, ignore_index=True)\n",
      "C:\\Users\\0\\AppData\\Local\\Temp\\ipykernel_16792\\790849181.py:15: FutureWarning: The frame.append method is deprecated and will be removed from pandas in a future version. Use pandas.concat instead.\n",
      "  train_set = train_set.append(data[:partion],ignore_index=True)\n",
      "C:\\Users\\0\\AppData\\Local\\Temp\\ipykernel_16792\\790849181.py:16: FutureWarning: The frame.append method is deprecated and will be removed from pandas in a future version. Use pandas.concat instead.\n",
      "  test_set = test_set.append(data[partion:], ignore_index=True)\n",
      "C:\\Users\\0\\AppData\\Local\\Temp\\ipykernel_16792\\790849181.py:17: FutureWarning: The frame.append method is deprecated and will be removed from pandas in a future version. Use pandas.concat instead.\n",
      "  total_set = total_set.append(data, ignore_index=True)\n",
      "C:\\Users\\0\\AppData\\Local\\Temp\\ipykernel_16792\\790849181.py:15: FutureWarning: The frame.append method is deprecated and will be removed from pandas in a future version. Use pandas.concat instead.\n",
      "  train_set = train_set.append(data[:partion],ignore_index=True)\n",
      "C:\\Users\\0\\AppData\\Local\\Temp\\ipykernel_16792\\790849181.py:16: FutureWarning: The frame.append method is deprecated and will be removed from pandas in a future version. Use pandas.concat instead.\n",
      "  test_set = test_set.append(data[partion:], ignore_index=True)\n",
      "C:\\Users\\0\\AppData\\Local\\Temp\\ipykernel_16792\\790849181.py:17: FutureWarning: The frame.append method is deprecated and will be removed from pandas in a future version. Use pandas.concat instead.\n",
      "  total_set = total_set.append(data, ignore_index=True)\n",
      "C:\\Users\\0\\AppData\\Local\\Temp\\ipykernel_16792\\790849181.py:15: FutureWarning: The frame.append method is deprecated and will be removed from pandas in a future version. Use pandas.concat instead.\n",
      "  train_set = train_set.append(data[:partion],ignore_index=True)\n",
      "C:\\Users\\0\\AppData\\Local\\Temp\\ipykernel_16792\\790849181.py:16: FutureWarning: The frame.append method is deprecated and will be removed from pandas in a future version. Use pandas.concat instead.\n",
      "  test_set = test_set.append(data[partion:], ignore_index=True)\n",
      "C:\\Users\\0\\AppData\\Local\\Temp\\ipykernel_16792\\790849181.py:17: FutureWarning: The frame.append method is deprecated and will be removed from pandas in a future version. Use pandas.concat instead.\n",
      "  total_set = total_set.append(data, ignore_index=True)\n",
      "C:\\Users\\0\\AppData\\Local\\Temp\\ipykernel_16792\\790849181.py:15: FutureWarning: The frame.append method is deprecated and will be removed from pandas in a future version. Use pandas.concat instead.\n",
      "  train_set = train_set.append(data[:partion],ignore_index=True)\n",
      "C:\\Users\\0\\AppData\\Local\\Temp\\ipykernel_16792\\790849181.py:16: FutureWarning: The frame.append method is deprecated and will be removed from pandas in a future version. Use pandas.concat instead.\n",
      "  test_set = test_set.append(data[partion:], ignore_index=True)\n",
      "C:\\Users\\0\\AppData\\Local\\Temp\\ipykernel_16792\\790849181.py:17: FutureWarning: The frame.append method is deprecated and will be removed from pandas in a future version. Use pandas.concat instead.\n",
      "  total_set = total_set.append(data, ignore_index=True)\n",
      "C:\\Users\\0\\AppData\\Local\\Temp\\ipykernel_16792\\790849181.py:15: FutureWarning: The frame.append method is deprecated and will be removed from pandas in a future version. Use pandas.concat instead.\n",
      "  train_set = train_set.append(data[:partion],ignore_index=True)\n",
      "C:\\Users\\0\\AppData\\Local\\Temp\\ipykernel_16792\\790849181.py:16: FutureWarning: The frame.append method is deprecated and will be removed from pandas in a future version. Use pandas.concat instead.\n",
      "  test_set = test_set.append(data[partion:], ignore_index=True)\n",
      "C:\\Users\\0\\AppData\\Local\\Temp\\ipykernel_16792\\790849181.py:17: FutureWarning: The frame.append method is deprecated and will be removed from pandas in a future version. Use pandas.concat instead.\n",
      "  total_set = total_set.append(data, ignore_index=True)\n",
      "C:\\Users\\0\\AppData\\Local\\Temp\\ipykernel_16792\\790849181.py:15: FutureWarning: The frame.append method is deprecated and will be removed from pandas in a future version. Use pandas.concat instead.\n",
      "  train_set = train_set.append(data[:partion],ignore_index=True)\n",
      "C:\\Users\\0\\AppData\\Local\\Temp\\ipykernel_16792\\790849181.py:16: FutureWarning: The frame.append method is deprecated and will be removed from pandas in a future version. Use pandas.concat instead.\n",
      "  test_set = test_set.append(data[partion:], ignore_index=True)\n",
      "C:\\Users\\0\\AppData\\Local\\Temp\\ipykernel_16792\\790849181.py:17: FutureWarning: The frame.append method is deprecated and will be removed from pandas in a future version. Use pandas.concat instead.\n",
      "  total_set = total_set.append(data, ignore_index=True)\n",
      "C:\\Users\\0\\AppData\\Local\\Temp\\ipykernel_16792\\790849181.py:15: FutureWarning: The frame.append method is deprecated and will be removed from pandas in a future version. Use pandas.concat instead.\n",
      "  train_set = train_set.append(data[:partion],ignore_index=True)\n",
      "C:\\Users\\0\\AppData\\Local\\Temp\\ipykernel_16792\\790849181.py:16: FutureWarning: The frame.append method is deprecated and will be removed from pandas in a future version. Use pandas.concat instead.\n",
      "  test_set = test_set.append(data[partion:], ignore_index=True)\n",
      "C:\\Users\\0\\AppData\\Local\\Temp\\ipykernel_16792\\790849181.py:17: FutureWarning: The frame.append method is deprecated and will be removed from pandas in a future version. Use pandas.concat instead.\n",
      "  total_set = total_set.append(data, ignore_index=True)\n",
      "C:\\Users\\0\\AppData\\Local\\Temp\\ipykernel_16792\\790849181.py:15: FutureWarning: The frame.append method is deprecated and will be removed from pandas in a future version. Use pandas.concat instead.\n",
      "  train_set = train_set.append(data[:partion],ignore_index=True)\n",
      "C:\\Users\\0\\AppData\\Local\\Temp\\ipykernel_16792\\790849181.py:16: FutureWarning: The frame.append method is deprecated and will be removed from pandas in a future version. Use pandas.concat instead.\n",
      "  test_set = test_set.append(data[partion:], ignore_index=True)\n",
      "C:\\Users\\0\\AppData\\Local\\Temp\\ipykernel_16792\\790849181.py:17: FutureWarning: The frame.append method is deprecated and will be removed from pandas in a future version. Use pandas.concat instead.\n",
      "  total_set = total_set.append(data, ignore_index=True)\n",
      "C:\\Users\\0\\AppData\\Local\\Temp\\ipykernel_16792\\790849181.py:15: FutureWarning: The frame.append method is deprecated and will be removed from pandas in a future version. Use pandas.concat instead.\n",
      "  train_set = train_set.append(data[:partion],ignore_index=True)\n",
      "C:\\Users\\0\\AppData\\Local\\Temp\\ipykernel_16792\\790849181.py:16: FutureWarning: The frame.append method is deprecated and will be removed from pandas in a future version. Use pandas.concat instead.\n",
      "  test_set = test_set.append(data[partion:], ignore_index=True)\n",
      "C:\\Users\\0\\AppData\\Local\\Temp\\ipykernel_16792\\790849181.py:17: FutureWarning: The frame.append method is deprecated and will be removed from pandas in a future version. Use pandas.concat instead.\n",
      "  total_set = total_set.append(data, ignore_index=True)\n",
      "C:\\Users\\0\\AppData\\Local\\Temp\\ipykernel_16792\\790849181.py:15: FutureWarning: The frame.append method is deprecated and will be removed from pandas in a future version. Use pandas.concat instead.\n",
      "  train_set = train_set.append(data[:partion],ignore_index=True)\n",
      "C:\\Users\\0\\AppData\\Local\\Temp\\ipykernel_16792\\790849181.py:16: FutureWarning: The frame.append method is deprecated and will be removed from pandas in a future version. Use pandas.concat instead.\n",
      "  test_set = test_set.append(data[partion:], ignore_index=True)\n",
      "C:\\Users\\0\\AppData\\Local\\Temp\\ipykernel_16792\\790849181.py:17: FutureWarning: The frame.append method is deprecated and will be removed from pandas in a future version. Use pandas.concat instead.\n",
      "  total_set = total_set.append(data, ignore_index=True)\n",
      "C:\\Users\\0\\AppData\\Local\\Temp\\ipykernel_16792\\790849181.py:15: FutureWarning: The frame.append method is deprecated and will be removed from pandas in a future version. Use pandas.concat instead.\n",
      "  train_set = train_set.append(data[:partion],ignore_index=True)\n",
      "C:\\Users\\0\\AppData\\Local\\Temp\\ipykernel_16792\\790849181.py:16: FutureWarning: The frame.append method is deprecated and will be removed from pandas in a future version. Use pandas.concat instead.\n",
      "  test_set = test_set.append(data[partion:], ignore_index=True)\n",
      "C:\\Users\\0\\AppData\\Local\\Temp\\ipykernel_16792\\790849181.py:17: FutureWarning: The frame.append method is deprecated and will be removed from pandas in a future version. Use pandas.concat instead.\n",
      "  total_set = total_set.append(data, ignore_index=True)\n",
      "C:\\Users\\0\\AppData\\Local\\Temp\\ipykernel_16792\\790849181.py:15: FutureWarning: The frame.append method is deprecated and will be removed from pandas in a future version. Use pandas.concat instead.\n",
      "  train_set = train_set.append(data[:partion],ignore_index=True)\n",
      "C:\\Users\\0\\AppData\\Local\\Temp\\ipykernel_16792\\790849181.py:16: FutureWarning: The frame.append method is deprecated and will be removed from pandas in a future version. Use pandas.concat instead.\n",
      "  test_set = test_set.append(data[partion:], ignore_index=True)\n",
      "C:\\Users\\0\\AppData\\Local\\Temp\\ipykernel_16792\\790849181.py:17: FutureWarning: The frame.append method is deprecated and will be removed from pandas in a future version. Use pandas.concat instead.\n",
      "  total_set = total_set.append(data, ignore_index=True)\n",
      "C:\\Users\\0\\AppData\\Local\\Temp\\ipykernel_16792\\790849181.py:15: FutureWarning: The frame.append method is deprecated and will be removed from pandas in a future version. Use pandas.concat instead.\n",
      "  train_set = train_set.append(data[:partion],ignore_index=True)\n",
      "C:\\Users\\0\\AppData\\Local\\Temp\\ipykernel_16792\\790849181.py:16: FutureWarning: The frame.append method is deprecated and will be removed from pandas in a future version. Use pandas.concat instead.\n",
      "  test_set = test_set.append(data[partion:], ignore_index=True)\n",
      "C:\\Users\\0\\AppData\\Local\\Temp\\ipykernel_16792\\790849181.py:17: FutureWarning: The frame.append method is deprecated and will be removed from pandas in a future version. Use pandas.concat instead.\n",
      "  total_set = total_set.append(data, ignore_index=True)\n",
      "C:\\Users\\0\\AppData\\Local\\Temp\\ipykernel_16792\\790849181.py:15: FutureWarning: The frame.append method is deprecated and will be removed from pandas in a future version. Use pandas.concat instead.\n",
      "  train_set = train_set.append(data[:partion],ignore_index=True)\n",
      "C:\\Users\\0\\AppData\\Local\\Temp\\ipykernel_16792\\790849181.py:16: FutureWarning: The frame.append method is deprecated and will be removed from pandas in a future version. Use pandas.concat instead.\n",
      "  test_set = test_set.append(data[partion:], ignore_index=True)\n",
      "C:\\Users\\0\\AppData\\Local\\Temp\\ipykernel_16792\\790849181.py:17: FutureWarning: The frame.append method is deprecated and will be removed from pandas in a future version. Use pandas.concat instead.\n",
      "  total_set = total_set.append(data, ignore_index=True)\n",
      "C:\\Users\\0\\AppData\\Local\\Temp\\ipykernel_16792\\790849181.py:15: FutureWarning: The frame.append method is deprecated and will be removed from pandas in a future version. Use pandas.concat instead.\n",
      "  train_set = train_set.append(data[:partion],ignore_index=True)\n",
      "C:\\Users\\0\\AppData\\Local\\Temp\\ipykernel_16792\\790849181.py:16: FutureWarning: The frame.append method is deprecated and will be removed from pandas in a future version. Use pandas.concat instead.\n",
      "  test_set = test_set.append(data[partion:], ignore_index=True)\n",
      "C:\\Users\\0\\AppData\\Local\\Temp\\ipykernel_16792\\790849181.py:17: FutureWarning: The frame.append method is deprecated and will be removed from pandas in a future version. Use pandas.concat instead.\n",
      "  total_set = total_set.append(data, ignore_index=True)\n",
      "C:\\Users\\0\\AppData\\Local\\Temp\\ipykernel_16792\\790849181.py:15: FutureWarning: The frame.append method is deprecated and will be removed from pandas in a future version. Use pandas.concat instead.\n",
      "  train_set = train_set.append(data[:partion],ignore_index=True)\n",
      "C:\\Users\\0\\AppData\\Local\\Temp\\ipykernel_16792\\790849181.py:16: FutureWarning: The frame.append method is deprecated and will be removed from pandas in a future version. Use pandas.concat instead.\n",
      "  test_set = test_set.append(data[partion:], ignore_index=True)\n",
      "C:\\Users\\0\\AppData\\Local\\Temp\\ipykernel_16792\\790849181.py:17: FutureWarning: The frame.append method is deprecated and will be removed from pandas in a future version. Use pandas.concat instead.\n",
      "  total_set = total_set.append(data, ignore_index=True)\n",
      "C:\\Users\\0\\AppData\\Local\\Temp\\ipykernel_16792\\790849181.py:15: FutureWarning: The frame.append method is deprecated and will be removed from pandas in a future version. Use pandas.concat instead.\n",
      "  train_set = train_set.append(data[:partion],ignore_index=True)\n",
      "C:\\Users\\0\\AppData\\Local\\Temp\\ipykernel_16792\\790849181.py:16: FutureWarning: The frame.append method is deprecated and will be removed from pandas in a future version. Use pandas.concat instead.\n",
      "  test_set = test_set.append(data[partion:], ignore_index=True)\n",
      "C:\\Users\\0\\AppData\\Local\\Temp\\ipykernel_16792\\790849181.py:17: FutureWarning: The frame.append method is deprecated and will be removed from pandas in a future version. Use pandas.concat instead.\n",
      "  total_set = total_set.append(data, ignore_index=True)\n",
      "C:\\Users\\0\\AppData\\Local\\Temp\\ipykernel_16792\\790849181.py:15: FutureWarning: The frame.append method is deprecated and will be removed from pandas in a future version. Use pandas.concat instead.\n",
      "  train_set = train_set.append(data[:partion],ignore_index=True)\n",
      "C:\\Users\\0\\AppData\\Local\\Temp\\ipykernel_16792\\790849181.py:16: FutureWarning: The frame.append method is deprecated and will be removed from pandas in a future version. Use pandas.concat instead.\n",
      "  test_set = test_set.append(data[partion:], ignore_index=True)\n",
      "C:\\Users\\0\\AppData\\Local\\Temp\\ipykernel_16792\\790849181.py:17: FutureWarning: The frame.append method is deprecated and will be removed from pandas in a future version. Use pandas.concat instead.\n",
      "  total_set = total_set.append(data, ignore_index=True)\n",
      "C:\\Users\\0\\AppData\\Local\\Temp\\ipykernel_16792\\790849181.py:15: FutureWarning: The frame.append method is deprecated and will be removed from pandas in a future version. Use pandas.concat instead.\n",
      "  train_set = train_set.append(data[:partion],ignore_index=True)\n",
      "C:\\Users\\0\\AppData\\Local\\Temp\\ipykernel_16792\\790849181.py:16: FutureWarning: The frame.append method is deprecated and will be removed from pandas in a future version. Use pandas.concat instead.\n",
      "  test_set = test_set.append(data[partion:], ignore_index=True)\n",
      "C:\\Users\\0\\AppData\\Local\\Temp\\ipykernel_16792\\790849181.py:17: FutureWarning: The frame.append method is deprecated and will be removed from pandas in a future version. Use pandas.concat instead.\n",
      "  total_set = total_set.append(data, ignore_index=True)\n",
      "C:\\Users\\0\\AppData\\Local\\Temp\\ipykernel_16792\\790849181.py:15: FutureWarning: The frame.append method is deprecated and will be removed from pandas in a future version. Use pandas.concat instead.\n",
      "  train_set = train_set.append(data[:partion],ignore_index=True)\n",
      "C:\\Users\\0\\AppData\\Local\\Temp\\ipykernel_16792\\790849181.py:16: FutureWarning: The frame.append method is deprecated and will be removed from pandas in a future version. Use pandas.concat instead.\n",
      "  test_set = test_set.append(data[partion:], ignore_index=True)\n",
      "C:\\Users\\0\\AppData\\Local\\Temp\\ipykernel_16792\\790849181.py:17: FutureWarning: The frame.append method is deprecated and will be removed from pandas in a future version. Use pandas.concat instead.\n",
      "  total_set = total_set.append(data, ignore_index=True)\n",
      "C:\\Users\\0\\AppData\\Local\\Temp\\ipykernel_16792\\790849181.py:15: FutureWarning: The frame.append method is deprecated and will be removed from pandas in a future version. Use pandas.concat instead.\n",
      "  train_set = train_set.append(data[:partion],ignore_index=True)\n",
      "C:\\Users\\0\\AppData\\Local\\Temp\\ipykernel_16792\\790849181.py:16: FutureWarning: The frame.append method is deprecated and will be removed from pandas in a future version. Use pandas.concat instead.\n",
      "  test_set = test_set.append(data[partion:], ignore_index=True)\n",
      "C:\\Users\\0\\AppData\\Local\\Temp\\ipykernel_16792\\790849181.py:17: FutureWarning: The frame.append method is deprecated and will be removed from pandas in a future version. Use pandas.concat instead.\n",
      "  total_set = total_set.append(data, ignore_index=True)\n",
      "C:\\Users\\0\\AppData\\Local\\Temp\\ipykernel_16792\\790849181.py:15: FutureWarning: The frame.append method is deprecated and will be removed from pandas in a future version. Use pandas.concat instead.\n",
      "  train_set = train_set.append(data[:partion],ignore_index=True)\n",
      "C:\\Users\\0\\AppData\\Local\\Temp\\ipykernel_16792\\790849181.py:16: FutureWarning: The frame.append method is deprecated and will be removed from pandas in a future version. Use pandas.concat instead.\n",
      "  test_set = test_set.append(data[partion:], ignore_index=True)\n",
      "C:\\Users\\0\\AppData\\Local\\Temp\\ipykernel_16792\\790849181.py:17: FutureWarning: The frame.append method is deprecated and will be removed from pandas in a future version. Use pandas.concat instead.\n",
      "  total_set = total_set.append(data, ignore_index=True)\n",
      "C:\\Users\\0\\AppData\\Local\\Temp\\ipykernel_16792\\790849181.py:15: FutureWarning: The frame.append method is deprecated and will be removed from pandas in a future version. Use pandas.concat instead.\n",
      "  train_set = train_set.append(data[:partion],ignore_index=True)\n",
      "C:\\Users\\0\\AppData\\Local\\Temp\\ipykernel_16792\\790849181.py:16: FutureWarning: The frame.append method is deprecated and will be removed from pandas in a future version. Use pandas.concat instead.\n",
      "  test_set = test_set.append(data[partion:], ignore_index=True)\n",
      "C:\\Users\\0\\AppData\\Local\\Temp\\ipykernel_16792\\790849181.py:17: FutureWarning: The frame.append method is deprecated and will be removed from pandas in a future version. Use pandas.concat instead.\n",
      "  total_set = total_set.append(data, ignore_index=True)\n",
      "C:\\Users\\0\\AppData\\Local\\Temp\\ipykernel_16792\\790849181.py:15: FutureWarning: The frame.append method is deprecated and will be removed from pandas in a future version. Use pandas.concat instead.\n",
      "  train_set = train_set.append(data[:partion],ignore_index=True)\n",
      "C:\\Users\\0\\AppData\\Local\\Temp\\ipykernel_16792\\790849181.py:16: FutureWarning: The frame.append method is deprecated and will be removed from pandas in a future version. Use pandas.concat instead.\n",
      "  test_set = test_set.append(data[partion:], ignore_index=True)\n",
      "C:\\Users\\0\\AppData\\Local\\Temp\\ipykernel_16792\\790849181.py:17: FutureWarning: The frame.append method is deprecated and will be removed from pandas in a future version. Use pandas.concat instead.\n",
      "  total_set = total_set.append(data, ignore_index=True)\n",
      "C:\\Users\\0\\AppData\\Local\\Temp\\ipykernel_16792\\790849181.py:15: FutureWarning: The frame.append method is deprecated and will be removed from pandas in a future version. Use pandas.concat instead.\n",
      "  train_set = train_set.append(data[:partion],ignore_index=True)\n",
      "C:\\Users\\0\\AppData\\Local\\Temp\\ipykernel_16792\\790849181.py:16: FutureWarning: The frame.append method is deprecated and will be removed from pandas in a future version. Use pandas.concat instead.\n",
      "  test_set = test_set.append(data[partion:], ignore_index=True)\n",
      "C:\\Users\\0\\AppData\\Local\\Temp\\ipykernel_16792\\790849181.py:17: FutureWarning: The frame.append method is deprecated and will be removed from pandas in a future version. Use pandas.concat instead.\n",
      "  total_set = total_set.append(data, ignore_index=True)\n"
     ]
    }
   ],
   "source": [
    "COLUMNS = ['newsfulltext','theme']\n",
    "\n",
    "train_set = pd.DataFrame(columns=COLUMNS)\n",
    "test_set = pd.DataFrame(columns=COLUMNS)\n",
    "total_set = pd.DataFrame(columns=COLUMNS)\n",
    "\n",
    "for file_ in directory:\n",
    "    data = pd.read_csv(file_,encoding='utf8',index_col=0)\n",
    "\n",
    "    partion = len(data)*75//100\n",
    "\n",
    "    data.newsfulltext = handling(data.newsfulltext)\n",
    "    data.theme = change(data.theme)\n",
    "\n",
    "    train_set = train_set.append(data[:partion],ignore_index=True)\n",
    "    test_set = test_set.append(data[partion:], ignore_index=True)\n",
    "    total_set = total_set.append(data, ignore_index=True)\n",
    "\n",
    "train_set.to_csv('./data/trian_set.csv',encoding='utf-8',index=False)\n",
    "test_set.to_csv('./data/test_set.csv',encoding='utf-8',index=False)\n",
    "total_set.to_csv('./data/total_set.csv',encoding='utf-8',index=False)\n",
    "    "
   ]
  },
  {
   "cell_type": "code",
   "execution_count": 62,
   "metadata": {},
   "outputs": [
    {
     "data": {
      "text/plain": [
       "(3700, 1244, 4944)"
      ]
     },
     "execution_count": 62,
     "metadata": {},
     "output_type": "execute_result"
    }
   ],
   "source": [
    "len(train_set),len(test_set),len(total_set)"
   ]
  },
  {
   "cell_type": "code",
   "execution_count": 63,
   "metadata": {},
   "outputs": [
    {
     "data": {
      "text/plain": [
       "array([0, 1, 2, 3, 4, 5, 6, 7, 8, 9, 10, 11, 12, 13, 14, 15, 16, 17, 18,\n",
       "       19, 20, 21, 22, 23, 24, 25, 26, 27, 28, 29], dtype=object)"
      ]
     },
     "execution_count": 63,
     "metadata": {},
     "output_type": "execute_result"
    }
   ],
   "source": [
    "total_set.theme.unique()"
   ]
  },
  {
   "cell_type": "code",
   "execution_count": 64,
   "metadata": {},
   "outputs": [
    {
     "data": {
      "text/html": [
       "<div>\n",
       "<style scoped>\n",
       "    .dataframe tbody tr th:only-of-type {\n",
       "        vertical-align: middle;\n",
       "    }\n",
       "\n",
       "    .dataframe tbody tr th {\n",
       "        vertical-align: top;\n",
       "    }\n",
       "\n",
       "    .dataframe thead th {\n",
       "        text-align: right;\n",
       "    }\n",
       "</style>\n",
       "<table border=\"1\" class=\"dataframe\">\n",
       "  <thead>\n",
       "    <tr style=\"text-align: right;\">\n",
       "      <th></th>\n",
       "      <th>newsfulltext</th>\n",
       "      <th>theme</th>\n",
       "    </tr>\n",
       "  </thead>\n",
       "  <tbody>\n",
       "    <tr>\n",
       "      <th>0</th>\n",
       "      <td>사진김캐디버핏서울은 스장을 중심으로 모객하는 기존 피트니스클럽 모델에서 탈피 커뮤니...</td>\n",
       "      <td>0</td>\n",
       "    </tr>\n",
       "    <tr>\n",
       "      <th>1</th>\n",
       "      <td>삼성전자 경기 기캠퍼스 주차타워에 설치된 태양광 발전 시설. 삼성전자 제공 전력 소...</td>\n",
       "      <td>0</td>\n",
       "    </tr>\n",
       "    <tr>\n",
       "      <th>2</th>\n",
       "      <td>한국경제신문의 프리미엄 스타트업 미디어 플랫폼 한경 긱스가 13일 스타트업 뉴스를 ...</td>\n",
       "      <td>0</td>\n",
       "    </tr>\n",
       "    <tr>\n",
       "      <th>3</th>\n",
       "      <td>꿈을 시각주는 기계. 사진바이두제 꿈이 정말 그림으로 그려지나요 지난달 24일 중국...</td>\n",
       "      <td>0</td>\n",
       "    </tr>\n",
       "    <tr>\n",
       "      <th>4</th>\n",
       "      <td>이미지11일 기자는 추석 연를 맞아 직접 텍스트를 이미지로 만들어주는 웹사이트 크레...</td>\n",
       "      <td>0</td>\n",
       "    </tr>\n",
       "    <tr>\n",
       "      <th>...</th>\n",
       "      <td>...</td>\n",
       "      <td>...</td>\n",
       "    </tr>\n",
       "    <tr>\n",
       "      <th>4939</th>\n",
       "      <td>“이 나라에도 희망이 있습니다. 학생들의 탐구욕, 세계 일류학자가 들려주는 어려운...</td>\n",
       "      <td>29</td>\n",
       "    </tr>\n",
       "    <tr>\n",
       "      <th>4940</th>\n",
       "      <td>이달들어 증권사의 신용융자 회수방침에 따라 미상환융자금을 포함한 신용융자 잔고가 ...</td>\n",
       "      <td>29</td>\n",
       "    </tr>\n",
       "    <tr>\n",
       "      <th>4941</th>\n",
       "      <td>30일 증시는 철강등 제조업주가 주가를 떠받쳐 사흘째 상승세를 나타냈 다. 3월 ...</td>\n",
       "      <td>29</td>\n",
       "    </tr>\n",
       "    <tr>\n",
       "      <th>4942</th>\n",
       "      <td>설비투자규모와 주가와의 상관관계가 높은 업종은 식료품, 섬유, 화학, 고무, 전자...</td>\n",
       "      <td>29</td>\n",
       "    </tr>\n",
       "    <tr>\n",
       "      <th>4943</th>\n",
       "      <td>사양업종 또는 구조적으로 경쟁력이 약화되고 있는 산업의 중소기업체들 이 업종전환이...</td>\n",
       "      <td>29</td>\n",
       "    </tr>\n",
       "  </tbody>\n",
       "</table>\n",
       "<p>4944 rows × 2 columns</p>\n",
       "</div>"
      ],
      "text/plain": [
       "                                           newsfulltext theme\n",
       "0     사진김캐디버핏서울은 스장을 중심으로 모객하는 기존 피트니스클럽 모델에서 탈피 커뮤니...     0\n",
       "1     삼성전자 경기 기캠퍼스 주차타워에 설치된 태양광 발전 시설. 삼성전자 제공 전력 소...     0\n",
       "2     한국경제신문의 프리미엄 스타트업 미디어 플랫폼 한경 긱스가 13일 스타트업 뉴스를 ...     0\n",
       "3     꿈을 시각주는 기계. 사진바이두제 꿈이 정말 그림으로 그려지나요 지난달 24일 중국...     0\n",
       "4     이미지11일 기자는 추석 연를 맞아 직접 텍스트를 이미지로 만들어주는 웹사이트 크레...     0\n",
       "...                                                 ...   ...\n",
       "4939   “이 나라에도 희망이 있습니다. 학생들의 탐구욕, 세계 일류학자가 들려주는 어려운...    29\n",
       "4940   이달들어 증권사의 신용융자 회수방침에 따라 미상환융자금을 포함한 신용융자 잔고가 ...    29\n",
       "4941   30일 증시는 철강등 제조업주가 주가를 떠받쳐 사흘째 상승세를 나타냈 다. 3월 ...    29\n",
       "4942   설비투자규모와 주가와의 상관관계가 높은 업종은 식료품, 섬유, 화학, 고무, 전자...    29\n",
       "4943   사양업종 또는 구조적으로 경쟁력이 약화되고 있는 산업의 중소기업체들 이 업종전환이...    29\n",
       "\n",
       "[4944 rows x 2 columns]"
      ]
     },
     "execution_count": 64,
     "metadata": {},
     "output_type": "execute_result"
    }
   ],
   "source": [
    "total_set"
   ]
  },
  {
   "cell_type": "code",
   "execution_count": null,
   "metadata": {},
   "outputs": [],
   "source": []
  }
 ],
 "metadata": {
  "kernelspec": {
   "display_name": "Python 3.10.7 64-bit (microsoft store)",
   "language": "python",
   "name": "python3"
  },
  "language_info": {
   "codemirror_mode": {
    "name": "ipython",
    "version": 3
   },
   "file_extension": ".py",
   "mimetype": "text/x-python",
   "name": "python",
   "nbconvert_exporter": "python",
   "pygments_lexer": "ipython3",
   "version": "3.10.7"
  },
  "orig_nbformat": 4,
  "vscode": {
   "interpreter": {
    "hash": "614ab989cdc66a649d1bb5ae325f2f1314093ceadee94b2deaa33c97b811aaf8"
   }
  }
 },
 "nbformat": 4,
 "nbformat_minor": 2
}
