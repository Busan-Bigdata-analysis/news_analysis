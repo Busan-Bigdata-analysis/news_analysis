{
 "cells": [
  {
   "cell_type": "code",
   "execution_count": 2,
   "metadata": {},
   "outputs": [],
   "source": [
    "from bs4 import BeautifulSoup\n",
    "import pandas as pd\n",
    "import time\n",
    "from selenium import webdriver\n",
    "import re"
   ]
  },
  {
   "cell_type": "code",
   "execution_count": 2,
   "metadata": {},
   "outputs": [
    {
     "name": "stderr",
     "output_type": "stream",
     "text": [
      "C:\\Users\\YU\\AppData\\Local\\Temp\\ipykernel_5828\\830696097.py:3: DeprecationWarning: executable_path has been deprecated, please pass in a Service object\n",
      "  wd = webdriver.Chrome('../newsCrawer/chromedriver.exe',options=options)\n"
     ]
    }
   ],
   "source": [
    "options = webdriver.ChromeOptions()\n",
    "options.add_experimental_option(\"excludeSwitches\", [\"enable-logging\"])\n",
    "wd = webdriver.Chrome('../newsCrawer/chromedriver.exe',options=options)\n",
    "\n",
    "wd.get(f'https://www.hankyung.com/economy/article/202207263189g')\n",
    "\n",
    "html = wd.page_source\n",
    "soup = BeautifulSoup(html,'html.parser')"
   ]
  },
  {
   "cell_type": "code",
   "execution_count": 39,
   "metadata": {},
   "outputs": [],
   "source": [
    "data = soup.select_one('#articletxt').text"
   ]
  },
  {
   "cell_type": "code",
   "execution_count": 40,
   "metadata": {},
   "outputs": [
    {
     "data": {
      "text/plain": [
       "'\\n\\n\\n\\n\\n서울 시내 한 주유소의 모습. 사진=뉴스1\\n치솟는 유가에 경유(디젤)차 인기가 떨어지는 반면 액화석유가스(LPG) 차량이 주목받고 있다. 기아는 이러한 분위기에 발맞춰 LPG 전용 스포티지를 출시해 눈길을 끈다.26일 업계와 한국자동차산업협회에 따르면 LPG 차량 등록 대수는 올해 2월 5298대, 3월 5858대, 4월 5909대, 5월 7178대로 4개월 연속 증가했다. 반면 경유 차량은 지난해 2월 이후 계속 줄어들고 있다. 저렴한 유가 장점 없어지고 친환경 바람...경유차 단종이러한 분위기는 고유가가 지속되고 있기 때문이다. 특히 휘발유에 비해 상대적으로 유류비 부담이 적고, 우수한 연비 덕분에 각광받았던 경유차는 업계에 부는 친환경 바람과 고유가라는 악재가 겹쳐 업체들이 생산을 중단하고 있다.AdChoices광고정부가 2018년 9월 자동차 배기가스 측정 방식을 강화하면서 현대차, 기아, 한국지엠(GM), 르노코리아 등은 경유 라인업을 계속해서 줄여왔다. 현대차그룹은 그랜저, 쏘나타, K3, K7의 디젤 모델 생산을 중단했다. 지난해는 제네시스가 경유 모델 \\'G70\\'과 \\'G80\\' 주문을 중단하면서 사실상 현재 국산 경유 세단은 모두 단종됐다.르노코리아 자동차는 SM3에 이어 SM6 경유차를 단종했고 한국지엠도 쉐보레 말리부 디젤을 판매 모델에서 뺐다. 쌍용차는 올해 선보인 신차 토레스를 가솔린 모델만 선보였다. 기아 또한 올 뉴 셀토스를 가솔린 모델만 출시한 상황이다.\\n                            \\n\\n\\n\\n기아는 국내 준중형 SUV 판매 1위 스포티지의 연식변경 모델 ‘2023 스포티지’를 출시하고 26일(화)부터 판매에 돌입한다고 밝혔다./사진=기아\\n 고유가 시대 저렴한 유지비 장점...뜨는 LPG반면 LPG 차량은 경유차와 달리 연료비 경쟁력에서 우위를 보이면서 신차가 출시되고 있이다. 이날 이날 기준 전국 휘발유 평균 가격은 L당 1938.6원 인데 반해 LPG 가격은 1099원으로 56.6% 수준이다.       기아는 전날 준중형 SUV 스포티지 모델에 LPG 차량을 추가, 그간 국내 시장에서 유일하게 판매됐던 SUV LPG 모델인 르노코리아의 QM6 LPe와 경쟁 구도를 형성했다.QM6 LPe는 이미 국내에서 인기몰이 중이다. 올 상반기 QM6 LPe 모델은 8540대가 팔려 전체 모델 중 LPG 엔진 비중이 60% 이상을 차지했다. 카이즈유데이터연구소에 따르면 QM6 LPe 모델은 올해 5월 등록대수 1249에서 6월엔 3132대로 2배 이상 껑충 뛰었다.업계 관계자는 \"고유가 시대에 LPG 차량에 대한 관심이 높아진 상황\"이라며 \"유류비 메리트(장점)가 없어진 탓도 있지만, 업계의 친환경차 전환 분위기에 따라 경유차는 특히 빠르게 설 자리를 잃을 것\"이라고 말했다.최수진 한경닷컴 기자 naive@hankyung.com\\n                                    '"
      ]
     },
     "execution_count": 40,
     "metadata": {},
     "output_type": "execute_result"
    }
   ],
   "source": [
    "data"
   ]
  },
  {
   "cell_type": "code",
   "execution_count": 14,
   "metadata": {},
   "outputs": [
    {
     "name": "stderr",
     "output_type": "stream",
     "text": [
      "C:\\Users\\YU\\AppData\\Local\\Temp\\ipykernel_8868\\830696097.py:3: DeprecationWarning: executable_path has been deprecated, please pass in a Service object\n",
      "  wd = webdriver.Chrome('../newsCrawer/chromedriver.exe',options=options)\n"
     ]
    }
   ],
   "source": [
    "options = webdriver.ChromeOptions()\n",
    "options.add_experimental_option(\"excludeSwitches\", [\"enable-logging\"])\n",
    "wd = webdriver.Chrome('../newsCrawer/chromedriver.exe',options=options)\n",
    "\n",
    "wd.get(f'https://www.hankyung.com/economy/article/202207263189g')\n",
    "\n",
    "html = wd.page_source\n",
    "soup = BeautifulSoup(html,'html.parser')"
   ]
  },
  {
   "cell_type": "code",
   "execution_count": 9,
   "metadata": {},
   "outputs": [],
   "source": [
    "data = soup.select('#articletxt')"
   ]
  },
  {
   "cell_type": "code",
   "execution_count": 84,
   "metadata": {},
   "outputs": [],
   "source": [
    "import re\n",
    "\n",
    "DROP_TEXT = ['\\n','사진=','\\'','/']\n",
    "\n",
    "TEXT = data\n",
    "# type(TEXT)\n",
    "# for item in DROP_TEXT:\n",
    "#     TEXT = TEXT.replace(item,' ')\n",
    "#     # TEXT = TEXT.replace('',' ')\n",
    "\n",
    "pattern = '[^ㄱ-핳 0-9,.]'\n",
    "TEXT = re.sub(pattern,'',TEXT)\n",
    "pattern = '(\\s+)'\n",
    "TEXT = re.sub(pattern,' ',TEXT)"
   ]
  },
  {
   "cell_type": "code",
   "execution_count": 85,
   "metadata": {},
   "outputs": [
    {
     "data": {
      "text/plain": [
       "'서울 시내 한 주유소의 모습. 사진뉴스1치솟는 유가에 경유디젤차 인기가 떨어지는 반면 액석유가스 차량이 주목받고 있다. 기아는 이러한 분위기에 발맞춰 전용 스포티지를 출시 눈길을 끈다.26일 업계와 한국자동차산업에 따르면 차량 등록 대수는 올 2월 5298대, 3월 5858대, 4월 5909대, 5월 7178대로 4개월 연속 증가다. 반면 경유 차량은 지난 2월 이 계속 줄어들고 있다. 저렴한 유가 장점 없어지고 친경 바람...경유차 단종이러한 분위기는 고유가가 지속되고 있기 때문이다. 특 발유에 비 상대적으로 유류비 부담이 적고, 우수한 연비 덕분에 각광받았던 경유차는 업계에 부는 친경 바람과 고유가라는 악재가 겹쳐 업체들이 생산을 중단하고 있다.광고정부가 2018년 9월 자동차 배기가스 측정 방식을 강하면서 대차, 기아, 한국지엠, 르노코리아 등은 경유 라인업을 계속서 줄여왔다. 대차그룹은 그랜저, 쏘나타, 3, 7의 디젤 모델 생산을 중단다. 지난는 제네시스가 경유 모델 70과 80 주문을 중단하면서 사실상 재 국산 경유 세단은 모두 단종됐다.르노코리아 자동차는 3에 이어 6 경유차를 단종고 한국지엠도 쉐보레 말리부 디젤을 판매 모델에서 뺐다. 쌍용차는 올 선보인 신차 토레스를 가솔린 모델만 선보였다. 기아 또한 올 뉴 셀토스를 가솔린 모델만 출시한 상이다. 기아는 국내 준중 판매 1위 스포티지의 연식변경 모델 2023 스포티지를 출시하고 26일부터 판매에 돌입한다고 밝다.사진기아 고유가 시대 저렴한 유지비 장점...뜨는 반면 차량은 경유차와 달리 연료비 경쟁력에서 우위를 보이면서 신차가 출시되고 있이다. 이날 이날 기준 전국 발유 평균 가격은 당 1938.6원 인데 반 가격은 1099원으로 56.6 수준이다. 기아는 전날 준중 스포티지 모델에 차량을 추가, 그간 국내 시장에서 유일하게 판매됐던 모델인 르노코리아의 6 와 경쟁 구도를 성다.6 는 이미 국내에서 인기몰이 중이다. 올 상반기 6 모델은 8540대가 팔려 전체 모델 중 엔진 비중이 60 이상을 차지다. 카이즈유데이터연구소에 따르면 6 모델은 올 5월 등록대수 1249에서 6월엔 3132대로 2배 이상 껑충 뛰었다.업계 관계자는 고유가 시대에 차량에 대한 관심이 높아진 상이라며 유류비 메리트장점가 없어진 탓도 있지만, 업계의 친경차 전 분위기에 따라 경유차는 특 빠르게 설 자리를 잃을 것이라고 말다.최수진 한경닷컴 기자 . '"
      ]
     },
     "execution_count": 85,
     "metadata": {},
     "output_type": "execute_result"
    }
   ],
   "source": [
    "TEXT"
   ]
  },
  {
   "cell_type": "code",
   "execution_count": 23,
   "metadata": {},
   "outputs": [
    {
     "data": {
      "text/plain": [
       "'서울 시내 한 주유소의 모습. 뉴스1치솟는 유가에 경유(디젤)차 인기가 떨어지는 반면 액화석유가스(LPG) 차량이 주목받고 있다. 기아는 이러한 분위기에 발맞춰 LPG 전용 스포티지를 출시해 눈길을 끈다.26일 업계와 한국자동차산업협회에 따르면 LPG 차량 등록 대수는 올해 2월 5298대, 3월 5858대, 4월 5909대, 5월 7178대로 4개월 연속 증가했다. 반면 경유 차량은 지난해 2월 이후 계속 줄어들고 있다. 저렴한 유가 장점 없어지고 친환경 바람...경유차 단종이러한 분위기는 고유가가 지속되고 있기 때문이다. 특히 휘발유에 비해 상대적으로 유류비 부담이 적고, 우수한 연비 덕분에 각광받았던 경유차는 업계에 부는 친환경 바람과 고유가라는 악재가 겹쳐 업체들이 생산을 중단하고 있다.AdChoices광고정부가 2018년 9월 자동차 배기가스 측정 방식을 강화하면서 현대차, 기아, 한국지엠(GM), 르노코리아 등은 경유 라인업을 계속해서 줄여왔다. 현대차그룹은 그랜저, 쏘나타, K3, K7의 디젤 모델 생산을 중단했다. 지난해는 제네시스가 경유 모델 G70과 G80 주문을 중단하면서 사실상 현재 국산 경유 세단은 모두 단종됐다.르노코리아 자동차는 SM3에 이어 SM6 경유차를 단종했고 한국지엠도 쉐보레 말리부 디젤을 판매 모델에서 뺐다. 쌍용차는 올해 선보인 신차 토레스를 가솔린 모델만 선보였다. 기아 또한 올 뉴 셀토스를 가솔린 모델만 출시한 상황이다.                            기아는 국내 준중형 SUV 판매 1위 스포티지의 연식변경 모델 ‘2023 스포티지’를 출시하고 26일(화)부터 판매에 돌입한다고 밝혔다./기아 고유가 시대 저렴한 유지비 장점...뜨는 LPG반면 LPG 차량은 경유차와 달리 연료비 경쟁력에서 우위를 보이면서 신차가 출시되고 있이다. 이날 이날 기준 전국 휘발유 평균 가격은 L당 1938.6원 인데 반해 LPG 가격은 1099원으로 56.6% 수준이다.       기아는 전날 준중형 SUV 스포티지 모델에 LPG 차량을 추가, 그간 국내 시장에서 유일하게 판매됐던 SUV LPG 모델인 르노코리아의 QM6 LPe와 경쟁 구도를 형성했다.QM6 LPe는 이미 국내에서 인기몰이 중이다. 올 상반기 QM6 LPe 모델은 8540대가 팔려 전체 모델 중 LPG 엔진 비중이 60% 이상을 차지했다. 카이즈유데이터연구소에 따르면 QM6 LPe 모델은 올해 5월 등록대수 1249에서 6월엔 3132대로 2배 이상 껑충 뛰었다.업계 관계자는 \"고유가 시대에 LPG 차량에 대한 관심이 높아진 상황\"이라며 \"유류비 메리트(장점)가 없어진 탓도 있지만, 업계의 친환경차 전환 분위기에 따라 경유차는 특히 빠르게 설 자리를 잃을 것\"이라고 말했다.최수진 한경닷컴 기자 '"
      ]
     },
     "execution_count": 23,
     "metadata": {},
     "output_type": "execute_result"
    }
   ],
   "source": [
    "patt"
   ]
  },
  {
   "cell_type": "code",
   "execution_count": 86,
   "metadata": {},
   "outputs": [
    {
     "name": "stderr",
     "output_type": "stream",
     "text": [
      "C:\\Users\\YU\\AppData\\Local\\Temp\\ipykernel_5828\\1989287504.py:3: DeprecationWarning: executable_path has been deprecated, please pass in a Service object\n",
      "  wd = webdriver.Chrome('../newsCrawer/chromedriver.exe',options=options)\n"
     ]
    }
   ],
   "source": [
    "options = webdriver.ChromeOptions()\n",
    "options.add_experimental_option(\"excludeSwitches\", [\"enable-logging\"])\n",
    "wd = webdriver.Chrome('../newsCrawer/chromedriver.exe',options=options)\n",
    "\n",
    "wd.get(f'https://www.hankyung.com/tag/LPG?page=1')\n",
    "\n",
    "html = wd.page_source\n",
    "soup = BeautifulSoup(html,'html.parser')"
   ]
  },
  {
   "cell_type": "code",
   "execution_count": 98,
   "metadata": {},
   "outputs": [
    {
     "data": {
      "text/plain": [
       "<h3 class=\"news-tit\"><a data-pm=\"N\" href=\"https://www.hankyung.com/economy/article/2022080985121\">신한카드, 개인택시가 E1에서 LPG 충전하면 적립·할인</a></h3>"
      ]
     },
     "execution_count": 98,
     "metadata": {},
     "output_type": "execute_result"
    }
   ],
   "source": [
    "news = soup.select('.news_list_wrap .news-tit')\n",
    "news[0]"
   ]
  },
  {
   "cell_type": "code",
   "execution_count": 104,
   "metadata": {},
   "outputs": [
    {
     "data": {
      "text/plain": [
       "'https://www.hankyung.com/economy/article/2022080985121'"
      ]
     },
     "execution_count": 104,
     "metadata": {},
     "output_type": "execute_result"
    }
   ],
   "source": [
    "news[0].find(href=True)['href']"
   ]
  },
  {
   "cell_type": "code",
   "execution_count": 3,
   "metadata": {},
   "outputs": [
    {
     "name": "stderr",
     "output_type": "stream",
     "text": [
      "C:\\Users\\YU\\AppData\\Local\\Temp\\ipykernel_57044\\2299178308.py:3: DeprecationWarning: executable_path has been deprecated, please pass in a Service object\n",
      "  wd = webdriver.Chrome('../newsCrawer/chromedriver.exe',options=options)\n"
     ]
    }
   ],
   "source": [
    "options = webdriver.ChromeOptions()\n",
    "options.add_experimental_option(\"excludeSwitches\", [\"enable-logging\"])\n",
    "wd = webdriver.Chrome('../newsCrawer/chromedriver.exe',options=options)\n",
    "\n",
    "wd.get(f'http://newslabit.hankyung.com/article/202106182621G')\n",
    "\n",
    "html = wd.page_source\n",
    "soup = BeautifulSoup(html,'html.parser')\n",
    "news = soup.select('.news_list_wrap .news-tit')"
   ]
  },
  {
   "cell_type": "code",
   "execution_count": 107,
   "metadata": {},
   "outputs": [
    {
     "data": {
      "text/plain": [
       "0"
      ]
     },
     "execution_count": 107,
     "metadata": {},
     "output_type": "execute_result"
    }
   ],
   "source": [
    "len(news)"
   ]
  },
  {
   "cell_type": "code",
   "execution_count": 13,
   "metadata": {},
   "outputs": [
    {
     "data": {
      "text/plain": [
       "NoneType"
      ]
     },
     "execution_count": 13,
     "metadata": {},
     "output_type": "execute_result"
    }
   ],
   "source": [
    "type(soup.select_one('.article-body'))"
   ]
  },
  {
   "cell_type": "code",
   "execution_count": 15,
   "metadata": {},
   "outputs": [],
   "source": [
    "data = soup.select_one('.article-body').text"
   ]
  },
  {
   "cell_type": "code",
   "execution_count": 15,
   "metadata": {},
   "outputs": [
    {
     "name": "stdout",
     "output_type": "stream",
     "text": [
      "<re.Match object; span=(1, 6), match='오디오래빗'>\n"
     ]
    }
   ],
   "source": [
    "print(re.search('오디오래빗+',soup.select_one('title').text))"
   ]
  },
  {
   "cell_type": "code",
   "execution_count": 13,
   "metadata": {},
   "outputs": [
    {
     "data": {
      "text/plain": [
       "'[오디오래빗] 집구경도 비대면으로 #프롭테크 | IT/과학 | IT/과학 일반 | 한경닷컴'"
      ]
     },
     "execution_count": 13,
     "metadata": {},
     "output_type": "execute_result"
    }
   ],
   "source": [
    "soup.select_one('title').text"
   ]
  },
  {
   "cell_type": "code",
   "execution_count": null,
   "metadata": {},
   "outputs": [],
   "source": []
  }
 ],
 "metadata": {
  "kernelspec": {
   "display_name": "Python 3.10.6 64-bit",
   "language": "python",
   "name": "python3"
  },
  "language_info": {
   "codemirror_mode": {
    "name": "ipython",
    "version": 3
   },
   "file_extension": ".py",
   "mimetype": "text/x-python",
   "name": "python",
   "nbconvert_exporter": "python",
   "pygments_lexer": "ipython3",
   "version": "3.10.6"
  },
  "orig_nbformat": 4,
  "vscode": {
   "interpreter": {
    "hash": "db1b3980ec5a932752c6df80e3e923e6f0d644610ca2b02781fcd822891163d3"
   }
  }
 },
 "nbformat": 4,
 "nbformat_minor": 2
}
